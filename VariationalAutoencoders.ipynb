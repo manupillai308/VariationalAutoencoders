{
 "cells": [
  {
   "cell_type": "code",
   "execution_count": 1,
   "metadata": {},
   "outputs": [],
   "source": [
    "import tensorflow as tf\n",
    "import numpy as np"
   ]
  },
  {
   "cell_type": "code",
   "execution_count": 21,
   "metadata": {},
   "outputs": [],
   "source": [
    "tf.reset_default_graph()"
   ]
  },
  {
   "cell_type": "code",
   "execution_count": 29,
   "metadata": {},
   "outputs": [],
   "source": [
    "batch_size = 40\n",
    "n_features = 28*28\n",
    "n_hidden1 = 500\n",
    "n_hidden2 = 500\n",
    "n_coding = 20\n",
    "n_hidden4 = n_hidden2\n",
    "n_hidden5 = n_hidden1\n",
    "n_outputs = n_features\n",
    "learning_rate = 0.01"
   ]
  },
  {
   "cell_type": "code",
   "execution_count": 23,
   "metadata": {},
   "outputs": [],
   "source": [
    "X = tf.placeholder(shape=[None, n_features], dtype = tf.float32, name = 'X')\n",
    "y = tf.placeholder(shape=[None, n_features], dtype = tf.float32, name = 'y')"
   ]
  },
  {
   "cell_type": "code",
   "execution_count": 24,
   "metadata": {},
   "outputs": [],
   "source": [
    "from functools import partial\n",
    "initializer = tf.contrib.layers.variance_scaling_initializer()\n",
    "create_dense = partial(tf.layers.dense, activation = tf.nn.elu, kernel_initializer = initializer)"
   ]
  },
  {
   "cell_type": "code",
   "execution_count": 25,
   "metadata": {},
   "outputs": [],
   "source": [
    "hidden1 = create_dense(inputs = X, units = n_hidden1)\n",
    "hidden2 = create_dense(inputs = hidden1, units = n_hidden2)\n",
    "codings_mean = create_dense(inputs = hidden2, units = n_coding, activation = None)\n",
    "codings_gamma = create_dense(inputs = hidden2, units = n_coding, activation = None)\n",
    "sampling = tf.random_normal(dtype=tf.float32,shape = tf.shape(codings_gamma))\n",
    "codings = codings_mean + tf.exp(0.5*codings_gamma)*sampling\n",
    "hidden4 = create_dense(inputs = codings, units = n_hidden4)\n",
    "hidden5 = create_dense(inputs = hidden4, units = n_hidden5)\n",
    "logits = create_dense(inputs = hidden5, activation = None, units = n_outputs)\n",
    "outputs = tf.nn.sigmoid(logits)"
   ]
  },
  {
   "cell_type": "code",
   "execution_count": 26,
   "metadata": {},
   "outputs": [],
   "source": [
    "latent_loss = 0.5 * tf.reduce_sum(tf.square(codings_mean) + tf.exp(codings_gamma)- (1 + codings_gamma))"
   ]
  },
  {
   "cell_type": "code",
   "execution_count": 27,
   "metadata": {},
   "outputs": [],
   "source": [
    "reconstruction_loss = tf.nn.sigmoid_cross_entropy_with_logits(logits = logits , labels=y)"
   ]
  },
  {
   "cell_type": "code",
   "execution_count": 28,
   "metadata": {},
   "outputs": [],
   "source": [
    "loss = latent_loss + reconstruction_loss"
   ]
  },
  {
   "cell_type": "code",
   "execution_count": 30,
   "metadata": {},
   "outputs": [],
   "source": [
    "optimizer = tf.train.AdamOptimizer(learning_rate=learning_rate)\n",
    "training_op = optimizer.minimize(loss)"
   ]
  },
  {
   "cell_type": "code",
   "execution_count": 31,
   "metadata": {},
   "outputs": [],
   "source": [
    "init = tf.global_variables_initializer()\n",
    "saver = tf.train.Saver()"
   ]
  },
  {
   "cell_type": "markdown",
   "metadata": {},
   "source": [
    "### At Inference time, feed codings = np.random.normal(shape = [n_digits, n_coding])"
   ]
  }
 ],
 "metadata": {
  "kernelspec": {
   "display_name": "Python 3",
   "language": "python",
   "name": "python3"
  },
  "language_info": {
   "codemirror_mode": {
    "name": "ipython",
    "version": 3
   },
   "file_extension": ".py",
   "mimetype": "text/x-python",
   "name": "python",
   "nbconvert_exporter": "python",
   "pygments_lexer": "ipython3",
   "version": "3.6.6"
  }
 },
 "nbformat": 4,
 "nbformat_minor": 2
}
